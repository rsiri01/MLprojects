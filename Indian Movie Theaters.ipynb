{
 "cells": [
  {
   "cell_type": "code",
   "execution_count": 19,
   "metadata": {},
   "outputs": [],
   "source": [
    "import numpy as np\n",
    "import pandas as pd\n",
    "import seaborn as sns \n",
    "%matplotlib inline"
   ]
  },
  {
   "cell_type": "code",
   "execution_count": 20,
   "metadata": {},
   "outputs": [],
   "source": [
    "df = pd.read_csv('indian-movie-theatres.csv')"
   ]
  },
  {
   "cell_type": "code",
   "execution_count": 21,
   "metadata": {},
   "outputs": [
    {
     "data": {
      "text/html": [
       "<div>\n",
       "<style scoped>\n",
       "    .dataframe tbody tr th:only-of-type {\n",
       "        vertical-align: middle;\n",
       "    }\n",
       "\n",
       "    .dataframe tbody tr th {\n",
       "        vertical-align: top;\n",
       "    }\n",
       "\n",
       "    .dataframe thead th {\n",
       "        text-align: right;\n",
       "    }\n",
       "</style>\n",
       "<table border=\"1\" class=\"dataframe\">\n",
       "  <thead>\n",
       "    <tr style=\"text-align: right;\">\n",
       "      <th></th>\n",
       "      <th>city</th>\n",
       "      <th>theatre_name</th>\n",
       "      <th>average_ticket_price</th>\n",
       "      <th>total_seats</th>\n",
       "      <th>no_screens</th>\n",
       "      <th>type</th>\n",
       "      <th>theatre_chain</th>\n",
       "      <th>lat</th>\n",
       "      <th>lon</th>\n",
       "      <th>calculated_seats</th>\n",
       "      <th>calculated_ticket_prices</th>\n",
       "      <th>calculated_screens</th>\n",
       "      <th>average_2</th>\n",
       "      <th>source_of_information</th>\n",
       "      <th>notes</th>\n",
       "    </tr>\n",
       "  </thead>\n",
       "  <tbody>\n",
       "    <tr>\n",
       "      <th>0</th>\n",
       "      <td>Ahmedabad</td>\n",
       "      <td>AB Miniplex: Shivranjini Cross Road, Satellite</td>\n",
       "      <td>125.619048</td>\n",
       "      <td>302</td>\n",
       "      <td>3</td>\n",
       "      <td>Multiplex</td>\n",
       "      <td>NaN</td>\n",
       "      <td>23.024940</td>\n",
       "      <td>72.529380</td>\n",
       "      <td>302.0</td>\n",
       "      <td>118.0</td>\n",
       "      <td>3.0</td>\n",
       "      <td>124.00</td>\n",
       "      <td>BookMyShow</td>\n",
       "      <td>NaN</td>\n",
       "    </tr>\n",
       "    <tr>\n",
       "      <th>1</th>\n",
       "      <td>Ahmedabad</td>\n",
       "      <td>Amber Cinema: Ahmedabad</td>\n",
       "      <td>100.833333</td>\n",
       "      <td>763</td>\n",
       "      <td>1</td>\n",
       "      <td>Single Screen</td>\n",
       "      <td>NaN</td>\n",
       "      <td>23.034310</td>\n",
       "      <td>72.620020</td>\n",
       "      <td>763.0</td>\n",
       "      <td>80.0</td>\n",
       "      <td>1.0</td>\n",
       "      <td>98.75</td>\n",
       "      <td>BookMyShow</td>\n",
       "      <td>NaN</td>\n",
       "    </tr>\n",
       "    <tr>\n",
       "      <th>2</th>\n",
       "      <td>Ahmedabad</td>\n",
       "      <td>Anupam Cinema: Ahmedabad</td>\n",
       "      <td>125.833333</td>\n",
       "      <td>781</td>\n",
       "      <td>1</td>\n",
       "      <td>Single Screen</td>\n",
       "      <td>NaN</td>\n",
       "      <td>23.006560</td>\n",
       "      <td>72.613330</td>\n",
       "      <td>781.0</td>\n",
       "      <td>80.0</td>\n",
       "      <td>1.0</td>\n",
       "      <td>121.25</td>\n",
       "      <td>BookMyShow</td>\n",
       "      <td>NaN</td>\n",
       "    </tr>\n",
       "    <tr>\n",
       "      <th>3</th>\n",
       "      <td>Ahmedabad</td>\n",
       "      <td>Apsara Cinema, Behrampura</td>\n",
       "      <td>NaN</td>\n",
       "      <td>1117</td>\n",
       "      <td>1</td>\n",
       "      <td>Single Screen</td>\n",
       "      <td>NaN</td>\n",
       "      <td>23.003974</td>\n",
       "      <td>72.597468</td>\n",
       "      <td>NaN</td>\n",
       "      <td>NaN</td>\n",
       "      <td>NaN</td>\n",
       "      <td>NaN</td>\n",
       "      <td>MediaAnt</td>\n",
       "      <td>NaN</td>\n",
       "    </tr>\n",
       "    <tr>\n",
       "      <th>4</th>\n",
       "      <td>Ahmedabad</td>\n",
       "      <td>Aradhana Cinema, Behrampura</td>\n",
       "      <td>NaN</td>\n",
       "      <td>455</td>\n",
       "      <td>1</td>\n",
       "      <td>Single Screen</td>\n",
       "      <td>NaN</td>\n",
       "      <td>23.003960</td>\n",
       "      <td>72.597519</td>\n",
       "      <td>NaN</td>\n",
       "      <td>NaN</td>\n",
       "      <td>NaN</td>\n",
       "      <td>NaN</td>\n",
       "      <td>MediaAnt</td>\n",
       "      <td>NaN</td>\n",
       "    </tr>\n",
       "  </tbody>\n",
       "</table>\n",
       "</div>"
      ],
      "text/plain": [
       "        city                                    theatre_name  \\\n",
       "0  Ahmedabad  AB Miniplex: Shivranjini Cross Road, Satellite   \n",
       "1  Ahmedabad                         Amber Cinema: Ahmedabad   \n",
       "2  Ahmedabad                        Anupam Cinema: Ahmedabad   \n",
       "3  Ahmedabad                       Apsara Cinema, Behrampura   \n",
       "4  Ahmedabad                     Aradhana Cinema, Behrampura   \n",
       "\n",
       "   average_ticket_price  total_seats  no_screens           type theatre_chain  \\\n",
       "0            125.619048          302           3      Multiplex           NaN   \n",
       "1            100.833333          763           1  Single Screen           NaN   \n",
       "2            125.833333          781           1  Single Screen           NaN   \n",
       "3                   NaN         1117           1  Single Screen           NaN   \n",
       "4                   NaN          455           1  Single Screen           NaN   \n",
       "\n",
       "         lat        lon  calculated_seats  calculated_ticket_prices  \\\n",
       "0  23.024940  72.529380             302.0                     118.0   \n",
       "1  23.034310  72.620020             763.0                      80.0   \n",
       "2  23.006560  72.613330             781.0                      80.0   \n",
       "3  23.003974  72.597468               NaN                       NaN   \n",
       "4  23.003960  72.597519               NaN                       NaN   \n",
       "\n",
       "   calculated_screens  average_2 source_of_information notes  \n",
       "0                 3.0     124.00            BookMyShow   NaN  \n",
       "1                 1.0      98.75            BookMyShow   NaN  \n",
       "2                 1.0     121.25            BookMyShow   NaN  \n",
       "3                 NaN        NaN              MediaAnt   NaN  \n",
       "4                 NaN        NaN              MediaAnt   NaN  "
      ]
     },
     "execution_count": 21,
     "metadata": {},
     "output_type": "execute_result"
    }
   ],
   "source": [
    "df.head(5)"
   ]
  },
  {
   "cell_type": "code",
   "execution_count": 22,
   "metadata": {},
   "outputs": [
    {
     "data": {
      "text/html": [
       "<div>\n",
       "<style scoped>\n",
       "    .dataframe tbody tr th:only-of-type {\n",
       "        vertical-align: middle;\n",
       "    }\n",
       "\n",
       "    .dataframe tbody tr th {\n",
       "        vertical-align: top;\n",
       "    }\n",
       "\n",
       "    .dataframe thead th {\n",
       "        text-align: right;\n",
       "    }\n",
       "</style>\n",
       "<table border=\"1\" class=\"dataframe\">\n",
       "  <thead>\n",
       "    <tr style=\"text-align: right;\">\n",
       "      <th></th>\n",
       "      <th>city</th>\n",
       "      <th>theatre_name</th>\n",
       "      <th>average_ticket_price</th>\n",
       "      <th>total_seats</th>\n",
       "      <th>no_screens</th>\n",
       "      <th>type</th>\n",
       "      <th>theatre_chain</th>\n",
       "      <th>lat</th>\n",
       "      <th>lon</th>\n",
       "      <th>calculated_seats</th>\n",
       "      <th>calculated_ticket_prices</th>\n",
       "      <th>calculated_screens</th>\n",
       "      <th>average_2</th>\n",
       "      <th>source_of_information</th>\n",
       "      <th>notes</th>\n",
       "    </tr>\n",
       "  </thead>\n",
       "  <tbody>\n",
       "    <tr>\n",
       "      <th>573</th>\n",
       "      <td>Mumbai</td>\n",
       "      <td>Silver Cinema, Ambewadi</td>\n",
       "      <td>NaN</td>\n",
       "      <td>636</td>\n",
       "      <td>1</td>\n",
       "      <td>Single Screen</td>\n",
       "      <td>NaN</td>\n",
       "      <td>18.958678</td>\n",
       "      <td>72.825468</td>\n",
       "      <td>NaN</td>\n",
       "      <td>NaN</td>\n",
       "      <td>NaN</td>\n",
       "      <td>NaN</td>\n",
       "      <td>MediaAnt</td>\n",
       "      <td>NaN</td>\n",
       "    </tr>\n",
       "    <tr>\n",
       "      <th>574</th>\n",
       "      <td>Mumbai</td>\n",
       "      <td>Sterling Cineplex: Fort</td>\n",
       "      <td>167.541667</td>\n",
       "      <td>900</td>\n",
       "      <td>3</td>\n",
       "      <td>Multiplex</td>\n",
       "      <td>NaN</td>\n",
       "      <td>18.938380</td>\n",
       "      <td>72.833070</td>\n",
       "      <td>900.0</td>\n",
       "      <td>90.0</td>\n",
       "      <td>3.0</td>\n",
       "      <td>165.000000</td>\n",
       "      <td>BookMyShow</td>\n",
       "      <td>NaN</td>\n",
       "    </tr>\n",
       "    <tr>\n",
       "      <th>575</th>\n",
       "      <td>Mumbai</td>\n",
       "      <td>Sun City: Vile Parle</td>\n",
       "      <td>180.208333</td>\n",
       "      <td>615</td>\n",
       "      <td>2</td>\n",
       "      <td>Multiplex</td>\n",
       "      <td>NaN</td>\n",
       "      <td>19.105410</td>\n",
       "      <td>72.846510</td>\n",
       "      <td>615.0</td>\n",
       "      <td>100.0</td>\n",
       "      <td>2.0</td>\n",
       "      <td>173.076923</td>\n",
       "      <td>BookMyShow</td>\n",
       "      <td>NaN</td>\n",
       "    </tr>\n",
       "    <tr>\n",
       "      <th>576</th>\n",
       "      <td>Mumbai</td>\n",
       "      <td>Super Cinema, Bharat Nagar</td>\n",
       "      <td>NaN</td>\n",
       "      <td>822</td>\n",
       "      <td>1</td>\n",
       "      <td>Single Screen</td>\n",
       "      <td>NaN</td>\n",
       "      <td>18.962063</td>\n",
       "      <td>72.820992</td>\n",
       "      <td>NaN</td>\n",
       "      <td>NaN</td>\n",
       "      <td>NaN</td>\n",
       "      <td>NaN</td>\n",
       "      <td>MediaAnt</td>\n",
       "      <td>NaN</td>\n",
       "    </tr>\n",
       "    <tr>\n",
       "      <th>577</th>\n",
       "      <td>Mumbai</td>\n",
       "      <td>Super Cinema: Grant Road</td>\n",
       "      <td>NaN</td>\n",
       "      <td>822</td>\n",
       "      <td>1</td>\n",
       "      <td>Single Screen</td>\n",
       "      <td>NaN</td>\n",
       "      <td>18.962068</td>\n",
       "      <td>72.821162</td>\n",
       "      <td>NaN</td>\n",
       "      <td>NaN</td>\n",
       "      <td>NaN</td>\n",
       "      <td>NaN</td>\n",
       "      <td>Internet Research</td>\n",
       "      <td>NaN</td>\n",
       "    </tr>\n",
       "  </tbody>\n",
       "</table>\n",
       "</div>"
      ],
      "text/plain": [
       "       city                theatre_name  average_ticket_price  total_seats  \\\n",
       "573  Mumbai     Silver Cinema, Ambewadi                   NaN          636   \n",
       "574  Mumbai     Sterling Cineplex: Fort            167.541667          900   \n",
       "575  Mumbai        Sun City: Vile Parle            180.208333          615   \n",
       "576  Mumbai  Super Cinema, Bharat Nagar                   NaN          822   \n",
       "577  Mumbai    Super Cinema: Grant Road                   NaN          822   \n",
       "\n",
       "     no_screens           type theatre_chain        lat        lon  \\\n",
       "573           1  Single Screen           NaN  18.958678  72.825468   \n",
       "574           3      Multiplex           NaN  18.938380  72.833070   \n",
       "575           2      Multiplex           NaN  19.105410  72.846510   \n",
       "576           1  Single Screen           NaN  18.962063  72.820992   \n",
       "577           1  Single Screen           NaN  18.962068  72.821162   \n",
       "\n",
       "     calculated_seats  calculated_ticket_prices  calculated_screens  \\\n",
       "573               NaN                       NaN                 NaN   \n",
       "574             900.0                      90.0                 3.0   \n",
       "575             615.0                     100.0                 2.0   \n",
       "576               NaN                       NaN                 NaN   \n",
       "577               NaN                       NaN                 NaN   \n",
       "\n",
       "      average_2 source_of_information notes  \n",
       "573         NaN              MediaAnt   NaN  \n",
       "574  165.000000            BookMyShow   NaN  \n",
       "575  173.076923            BookMyShow   NaN  \n",
       "576         NaN              MediaAnt   NaN  \n",
       "577         NaN     Internet Research   NaN  "
      ]
     },
     "execution_count": 22,
     "metadata": {},
     "output_type": "execute_result"
    }
   ],
   "source": [
    "df.tail(5)"
   ]
  },
  {
   "cell_type": "code",
   "execution_count": 23,
   "metadata": {},
   "outputs": [
    {
     "name": "stdout",
     "output_type": "stream",
     "text": [
      "(578, 15)\n"
     ]
    }
   ],
   "source": [
    "print(df.shape)"
   ]
  },
  {
   "cell_type": "code",
   "execution_count": 24,
   "metadata": {},
   "outputs": [
    {
     "name": "stdout",
     "output_type": "stream",
     "text": [
      "<class 'pandas.core.frame.DataFrame'>\n",
      "RangeIndex: 578 entries, 0 to 577\n",
      "Data columns (total 15 columns):\n",
      " #   Column                    Non-Null Count  Dtype  \n",
      "---  ------                    --------------  -----  \n",
      " 0   city                      578 non-null    object \n",
      " 1   theatre_name              578 non-null    object \n",
      " 2   average_ticket_price      402 non-null    float64\n",
      " 3   total_seats               578 non-null    int64  \n",
      " 4   no_screens                578 non-null    int64  \n",
      " 5   type                      578 non-null    object \n",
      " 6   theatre_chain             185 non-null    object \n",
      " 7   lat                       578 non-null    float64\n",
      " 8   lon                       578 non-null    float64\n",
      " 9   calculated_seats          402 non-null    float64\n",
      " 10  calculated_ticket_prices  402 non-null    float64\n",
      " 11  calculated_screens        402 non-null    float64\n",
      " 12  average_2                 402 non-null    float64\n",
      " 13  source_of_information     578 non-null    object \n",
      " 14  notes                     79 non-null     object \n",
      "dtypes: float64(7), int64(2), object(6)\n",
      "memory usage: 67.9+ KB\n"
     ]
    }
   ],
   "source": [
    "df.info()"
   ]
  },
  {
   "cell_type": "code",
   "execution_count": 25,
   "metadata": {},
   "outputs": [
    {
     "data": {
      "text/html": [
       "<div>\n",
       "<style scoped>\n",
       "    .dataframe tbody tr th:only-of-type {\n",
       "        vertical-align: middle;\n",
       "    }\n",
       "\n",
       "    .dataframe tbody tr th {\n",
       "        vertical-align: top;\n",
       "    }\n",
       "\n",
       "    .dataframe thead th {\n",
       "        text-align: right;\n",
       "    }\n",
       "</style>\n",
       "<table border=\"1\" class=\"dataframe\">\n",
       "  <thead>\n",
       "    <tr style=\"text-align: right;\">\n",
       "      <th></th>\n",
       "      <th>city</th>\n",
       "      <th>theatre_name</th>\n",
       "      <th>average_ticket_price</th>\n",
       "      <th>total_seats</th>\n",
       "      <th>no_screens</th>\n",
       "      <th>type</th>\n",
       "      <th>theatre_chain</th>\n",
       "      <th>lat</th>\n",
       "      <th>lon</th>\n",
       "      <th>calculated_seats</th>\n",
       "      <th>calculated_ticket_prices</th>\n",
       "      <th>calculated_screens</th>\n",
       "      <th>average_2</th>\n",
       "      <th>source_of_information</th>\n",
       "      <th>notes</th>\n",
       "    </tr>\n",
       "  </thead>\n",
       "  <tbody>\n",
       "    <tr>\n",
       "      <th>0</th>\n",
       "      <td>Ahmedabad</td>\n",
       "      <td>AB Miniplex: Shivranjini Cross Road, Satellite</td>\n",
       "      <td>125.619048</td>\n",
       "      <td>302</td>\n",
       "      <td>3</td>\n",
       "      <td>Multiplex</td>\n",
       "      <td>NaN</td>\n",
       "      <td>23.024940</td>\n",
       "      <td>72.529380</td>\n",
       "      <td>302.0</td>\n",
       "      <td>118.0</td>\n",
       "      <td>3.0</td>\n",
       "      <td>124.00</td>\n",
       "      <td>BookMyShow</td>\n",
       "      <td>NaN</td>\n",
       "    </tr>\n",
       "    <tr>\n",
       "      <th>1</th>\n",
       "      <td>Ahmedabad</td>\n",
       "      <td>Amber Cinema: Ahmedabad</td>\n",
       "      <td>100.833333</td>\n",
       "      <td>763</td>\n",
       "      <td>1</td>\n",
       "      <td>Single Screen</td>\n",
       "      <td>NaN</td>\n",
       "      <td>23.034310</td>\n",
       "      <td>72.620020</td>\n",
       "      <td>763.0</td>\n",
       "      <td>80.0</td>\n",
       "      <td>1.0</td>\n",
       "      <td>98.75</td>\n",
       "      <td>BookMyShow</td>\n",
       "      <td>NaN</td>\n",
       "    </tr>\n",
       "    <tr>\n",
       "      <th>2</th>\n",
       "      <td>Ahmedabad</td>\n",
       "      <td>Anupam Cinema: Ahmedabad</td>\n",
       "      <td>125.833333</td>\n",
       "      <td>781</td>\n",
       "      <td>1</td>\n",
       "      <td>Single Screen</td>\n",
       "      <td>NaN</td>\n",
       "      <td>23.006560</td>\n",
       "      <td>72.613330</td>\n",
       "      <td>781.0</td>\n",
       "      <td>80.0</td>\n",
       "      <td>1.0</td>\n",
       "      <td>121.25</td>\n",
       "      <td>BookMyShow</td>\n",
       "      <td>NaN</td>\n",
       "    </tr>\n",
       "    <tr>\n",
       "      <th>3</th>\n",
       "      <td>Ahmedabad</td>\n",
       "      <td>Apsara Cinema, Behrampura</td>\n",
       "      <td>NaN</td>\n",
       "      <td>1117</td>\n",
       "      <td>1</td>\n",
       "      <td>Single Screen</td>\n",
       "      <td>NaN</td>\n",
       "      <td>23.003974</td>\n",
       "      <td>72.597468</td>\n",
       "      <td>NaN</td>\n",
       "      <td>NaN</td>\n",
       "      <td>NaN</td>\n",
       "      <td>NaN</td>\n",
       "      <td>MediaAnt</td>\n",
       "      <td>NaN</td>\n",
       "    </tr>\n",
       "    <tr>\n",
       "      <th>4</th>\n",
       "      <td>Ahmedabad</td>\n",
       "      <td>Aradhana Cinema, Behrampura</td>\n",
       "      <td>NaN</td>\n",
       "      <td>455</td>\n",
       "      <td>1</td>\n",
       "      <td>Single Screen</td>\n",
       "      <td>NaN</td>\n",
       "      <td>23.003960</td>\n",
       "      <td>72.597519</td>\n",
       "      <td>NaN</td>\n",
       "      <td>NaN</td>\n",
       "      <td>NaN</td>\n",
       "      <td>NaN</td>\n",
       "      <td>MediaAnt</td>\n",
       "      <td>NaN</td>\n",
       "    </tr>\n",
       "  </tbody>\n",
       "</table>\n",
       "</div>"
      ],
      "text/plain": [
       "        city                                    theatre_name  \\\n",
       "0  Ahmedabad  AB Miniplex: Shivranjini Cross Road, Satellite   \n",
       "1  Ahmedabad                         Amber Cinema: Ahmedabad   \n",
       "2  Ahmedabad                        Anupam Cinema: Ahmedabad   \n",
       "3  Ahmedabad                       Apsara Cinema, Behrampura   \n",
       "4  Ahmedabad                     Aradhana Cinema, Behrampura   \n",
       "\n",
       "   average_ticket_price  total_seats  no_screens           type theatre_chain  \\\n",
       "0            125.619048          302           3      Multiplex           NaN   \n",
       "1            100.833333          763           1  Single Screen           NaN   \n",
       "2            125.833333          781           1  Single Screen           NaN   \n",
       "3                   NaN         1117           1  Single Screen           NaN   \n",
       "4                   NaN          455           1  Single Screen           NaN   \n",
       "\n",
       "         lat        lon  calculated_seats  calculated_ticket_prices  \\\n",
       "0  23.024940  72.529380             302.0                     118.0   \n",
       "1  23.034310  72.620020             763.0                      80.0   \n",
       "2  23.006560  72.613330             781.0                      80.0   \n",
       "3  23.003974  72.597468               NaN                       NaN   \n",
       "4  23.003960  72.597519               NaN                       NaN   \n",
       "\n",
       "   calculated_screens  average_2 source_of_information notes  \n",
       "0                 3.0     124.00            BookMyShow   NaN  \n",
       "1                 1.0      98.75            BookMyShow   NaN  \n",
       "2                 1.0     121.25            BookMyShow   NaN  \n",
       "3                 NaN        NaN              MediaAnt   NaN  \n",
       "4                 NaN        NaN              MediaAnt   NaN  "
      ]
     },
     "execution_count": 25,
     "metadata": {},
     "output_type": "execute_result"
    }
   ],
   "source": [
    "df[df.theatre_chain.isnull()].head(5)"
   ]
  },
  {
   "cell_type": "code",
   "execution_count": 29,
   "metadata": {},
   "outputs": [
    {
     "name": "stdout",
     "output_type": "stream",
     "text": [
      "['Ahmedabad' 'Bangalore' 'Chennai' 'Delhi' 'Hyderabad' 'Kochi' 'Kolkata'\n",
      " 'Mumbai']\n"
     ]
    }
   ],
   "source": [
    "print(df['city'].unique())"
   ]
  },
  {
   "cell_type": "code",
   "execution_count": 41,
   "metadata": {},
   "outputs": [
    {
     "name": "stdout",
     "output_type": "stream",
     "text": [
      "6\n",
      "2\n",
      "25\n"
     ]
    }
   ],
   "source": [
    "print(len(df['source_of_information'].unique()))\n",
    "print(len(df['type'].unique()))\n",
    "print(len(df['theatre_chain'].unique()))"
   ]
  },
  {
   "cell_type": "markdown",
   "metadata": {},
   "source": [
    "### There are 8 Cities\n",
    "### Bangalore has the highest amount of theaters"
   ]
  },
  {
   "cell_type": "code",
   "execution_count": 42,
   "metadata": {},
   "outputs": [
    {
     "data": {
      "text/plain": [
       "Bangalore    143\n",
       "Hyderabad    123\n",
       "Mumbai       104\n",
       "Chennai       56\n",
       "Delhi         51\n",
       "Kolkata       50\n",
       "Ahmedabad     36\n",
       "Kochi         15\n",
       "Name: city, dtype: int64"
      ]
     },
     "execution_count": 42,
     "metadata": {},
     "output_type": "execute_result"
    }
   ],
   "source": [
    "df['city'].value_counts().head(10)"
   ]
  },
  {
   "cell_type": "markdown",
   "metadata": {},
   "source": [
    "### There are 2 types of screens\n",
    "### Single Screen dominates overall"
   ]
  },
  {
   "cell_type": "code",
   "execution_count": 43,
   "metadata": {},
   "outputs": [
    {
     "data": {
      "text/plain": [
       "Single Screen    389\n",
       "Multiplex        189\n",
       "Name: type, dtype: int64"
      ]
     },
     "execution_count": 43,
     "metadata": {},
     "output_type": "execute_result"
    }
   ],
   "source": [
    "df['type'].value_counts().head(10)"
   ]
  },
  {
   "cell_type": "markdown",
   "metadata": {},
   "source": [
    "### 2 Main sources of information\n",
    "### BookMyShow was referenced the most"
   ]
  },
  {
   "cell_type": "code",
   "execution_count": 44,
   "metadata": {},
   "outputs": [
    {
     "data": {
      "text/plain": [
       "BookMyShow                       189\n",
       "BookMyShow, MediaAnt             163\n",
       "MediaAnt                         137\n",
       "BookMyShow, Internet Research     52\n",
       "Internet Research                 36\n",
       "BookMyShow, mediaAnt               1\n",
       "Name: source_of_information, dtype: int64"
      ]
     },
     "execution_count": 44,
     "metadata": {},
     "output_type": "execute_result"
    }
   ],
   "source": [
    "df['source_of_information'].value_counts().head(10)"
   ]
  },
  {
   "cell_type": "markdown",
   "metadata": {},
   "source": [
    "### Banglore has the highest number of theater seats"
   ]
  },
  {
   "cell_type": "code",
   "execution_count": 46,
   "metadata": {},
   "outputs": [
    {
     "data": {
      "text/plain": [
       "city\n",
       "Bangalore    114680\n",
       "Hyderabad    104214\n",
       "Mumbai        79335\n",
       "Chennai       54407\n",
       "Kolkata       39740\n",
       "Delhi         37843\n",
       "Ahmedabad     29029\n",
       "Kochi         11949\n",
       "Name: total_seats, dtype: int64"
      ]
     },
     "execution_count": 46,
     "metadata": {},
     "output_type": "execute_result"
    }
   ],
   "source": [
    "df.groupby('city')['total_seats'].sum().sort_values(ascending=False).head(10)"
   ]
  },
  {
   "cell_type": "markdown",
   "metadata": {},
   "source": [
    "### Banglore has the most number of theater screens"
   ]
  },
  {
   "cell_type": "code",
   "execution_count": 47,
   "metadata": {},
   "outputs": [
    {
     "data": {
      "text/plain": [
       "city\n",
       "Bangalore    261\n",
       "Mumbai       252\n",
       "Hyderabad    195\n",
       "Delhi        131\n",
       "Chennai      119\n",
       "Ahmedabad    115\n",
       "Kolkata       81\n",
       "Kochi         38\n",
       "Name: no_screens, dtype: int64"
      ]
     },
     "execution_count": 47,
     "metadata": {},
     "output_type": "execute_result"
    }
   ],
   "source": [
    "df.groupby('city')['no_screens'].sum().sort_values(ascending=False).head(10)"
   ]
  },
  {
   "cell_type": "markdown",
   "metadata": {},
   "source": [
    "### There are 10 theater chains\n",
    "### PVR dominates in having the most number of screens "
   ]
  },
  {
   "cell_type": "code",
   "execution_count": 52,
   "metadata": {},
   "outputs": [
    {
     "data": {
      "text/plain": [
       "theatre_chain\n",
       "PVR             236\n",
       "Inox            116\n",
       "Cinepolis        78\n",
       "Carnival         51\n",
       "Asian            26\n",
       "Movietime        22\n",
       "Miraj Cinema     20\n",
       "City Gold        19\n",
       "SPI Cinemas      15\n",
       "Cinemax          15\n",
       "Name: no_screens, dtype: int64"
      ]
     },
     "execution_count": 52,
     "metadata": {},
     "output_type": "execute_result"
    }
   ],
   "source": [
    "df.groupby('theatre_chain')['no_screens'].sum().sort_values(ascending=False).head(10)"
   ]
  },
  {
   "cell_type": "markdown",
   "metadata": {},
   "source": [
    "### PVR has the most number of seats"
   ]
  },
  {
   "cell_type": "code",
   "execution_count": 53,
   "metadata": {},
   "outputs": [
    {
     "data": {
      "text/plain": [
       "theatre_chain\n",
       "PVR             49849\n",
       "Inox            24393\n",
       "Cinepolis       15991\n",
       "Carnival        13367\n",
       "Asian           10627\n",
       "SPI Cinemas      5293\n",
       "Miraj Cinema     5051\n",
       "Movietime        4646\n",
       "Cinemax          3799\n",
       "Satyam           3463\n",
       "Name: total_seats, dtype: int64"
      ]
     },
     "execution_count": 53,
     "metadata": {},
     "output_type": "execute_result"
    }
   ],
   "source": [
    "df.groupby('theatre_chain')['total_seats'].sum().sort_values(ascending=False).head(10)"
   ]
  },
  {
   "cell_type": "code",
   "execution_count": 56,
   "metadata": {},
   "outputs": [
    {
     "data": {
      "text/plain": [
       "theatre_chain\n",
       "PVR                18662.978517\n",
       "Inox                7153.586820\n",
       "Cinepolis           2968.487836\n",
       "Carnival            2322.754641\n",
       "Movietime           1481.232227\n",
       "Asian               1241.314815\n",
       "Miraj Cinema        1148.446591\n",
       "Gopalan Cinemas     1028.060898\n",
       "Cinemax              761.716865\n",
       "City Gold            681.151124\n",
       "Name: average_ticket_price, dtype: float64"
      ]
     },
     "execution_count": 56,
     "metadata": {},
     "output_type": "execute_result"
    }
   ],
   "source": [
    "df.groupby('theatre_chain')['average_ticket_price'].sum().sort_values(ascending=False).head(10)"
   ]
  },
  {
   "cell_type": "markdown",
   "metadata": {},
   "source": [
    "### Brands that conquer each city"
   ]
  },
  {
   "cell_type": "code",
   "execution_count": 57,
   "metadata": {},
   "outputs": [
    {
     "data": {
      "text/plain": [
       "city       theatre_chain\n",
       "Delhi      PVR              15\n",
       "Mumbai     PVR              15\n",
       "Bangalore  PVR              14\n",
       "Hyderabad  Asian            12\n",
       "Mumbai     Inox              8\n",
       "           Carnival          8\n",
       "Kolkata    Inox              7\n",
       "Bangalore  Inox              7\n",
       "Ahmedabad  PVR               6\n",
       "           City Gold         5\n",
       "Name: theatre_chain, dtype: int64"
      ]
     },
     "execution_count": 57,
     "metadata": {},
     "output_type": "execute_result"
    }
   ],
   "source": [
    "df.groupby('city')['theatre_chain'].value_counts().sort_values(ascending=False).head(10)"
   ]
  },
  {
   "cell_type": "markdown",
   "metadata": {},
   "source": [
    "### Type of screens per city"
   ]
  },
  {
   "cell_type": "code",
   "execution_count": 58,
   "metadata": {},
   "outputs": [
    {
     "data": {
      "text/plain": [
       "city       type         \n",
       "Bangalore  Single Screen    114\n",
       "Hyderabad  Single Screen    100\n",
       "Mumbai     Single Screen     58\n",
       "           Multiplex         46\n",
       "Chennai    Single Screen     40\n",
       "Kolkata    Single Screen     38\n",
       "Delhi      Multiplex         30\n",
       "Bangalore  Multiplex         29\n",
       "Ahmedabad  Multiplex         26\n",
       "Hyderabad  Multiplex         23\n",
       "Name: type, dtype: int64"
      ]
     },
     "execution_count": 58,
     "metadata": {},
     "output_type": "execute_result"
    }
   ],
   "source": [
    "df.groupby('city')['type'].value_counts().sort_values(ascending=False).head(10)"
   ]
  },
  {
   "cell_type": "code",
   "execution_count": 66,
   "metadata": {},
   "outputs": [
    {
     "data": {
      "image/png": "[encoded data removed]",
      "text/plain": [
       "<Figure size 432x288 with 1 Axes>"
      ]
     },
     "metadata": {
      "needs_background": "light"
     },
     "output_type": "display_data"
    }
   ],
   "source": [
    "sns.histplot(df['city'],kde=False);"
   ]
  },
  {
   "cell_type": "code",
   "execution_count": 68,
   "metadata": {},
   "outputs": [
    {
     "data": {
      "image/png": "[encoded data removed]",
      "text/plain": [
       "<Figure size 432x288 with 1 Axes>"
      ]
     },
     "metadata": {
      "needs_background": "light"
     },
     "output_type": "display_data"
    }
   ],
   "source": [
    "sns.stripplot(x='type',y='total_seats',data=df,jitter=True);"
   ]
  },
  {
   "cell_type": "code",
   "execution_count": 75,
   "metadata": {},
   "outputs": [
    {
     "data": {
      "text/plain": [
       "<AxesSubplot:xlabel='type', ylabel='average_ticket_price'>"
      ]
     },
     "execution_count": 75,
     "metadata": {},
     "output_type": "execute_result"
    },
    {
     "data": {
      "image/png": "[encoded data removed]",
      "text/plain": [
       "<Figure size 432x288 with 1 Axes>"
      ]
     },
     "metadata": {
      "needs_background": "light"
     },
     "output_type": "display_data"
    }
   ],
   "source": [
    "sns.stripplot(x='type',y='average_ticket_price',data=df,jitter=True)"
   ]
  },
  {
   "cell_type": "code",
   "execution_count": 73,
   "metadata": {},
   "outputs": [
    {
     "data": {
      "text/plain": [
       "<AxesSubplot:xlabel='type', ylabel='no_screens'>"
      ]
     },
     "execution_count": 73,
     "metadata": {},
     "output_type": "execute_result"
    },
    {
     "data": {
      "image/png": "[encoded data removed]",
      "text/plain": [
       "<Figure size 432x288 with 1 Axes>"
      ]
     },
     "metadata": {
      "needs_background": "light"
     },
     "output_type": "display_data"
    }
   ],
   "source": [
    "sns.stripplot(x='type',y='no_screens',data=df)"
   ]
  },
  {
   "cell_type": "code",
   "execution_count": 79,
   "metadata": {},
   "outputs": [
    {
     "data": {
      "image/png": "[encoded data removed]",
      "text/plain": [
       "<Figure size 432x288 with 1 Axes>"
      ]
     },
     "metadata": {
      "needs_background": "light"
     },
     "output_type": "display_data"
    }
   ],
   "source": [
    "sns.boxplot(x='city',y='total_seats',data=df);"
   ]
  },
  {
   "cell_type": "markdown",
   "metadata": {},
   "source": [
    "### one place is delhi charges the highest price "
   ]
  },
  {
   "cell_type": "code",
   "execution_count": 82,
   "metadata": {},
   "outputs": [
    {
     "data": {
      "image/png": "[encoded data removed]",
      "text/plain": [
       "<Figure size 432x288 with 1 Axes>"
      ]
     },
     "metadata": {
      "needs_background": "light"
     },
     "output_type": "display_data"
    }
   ],
   "source": [
    "sns.boxplot(x='city',y='average_ticket_price',data=df);"
   ]
  },
  {
   "cell_type": "markdown",
   "metadata": {},
   "source": [
    "### There are more multiplex screens per city "
   ]
  },
  {
   "cell_type": "code",
   "execution_count": 85,
   "metadata": {},
   "outputs": [
    {
     "data": {
      "image/png": "[encoded data removed]",
      "text/plain": [
       "<Figure size 432x288 with 1 Axes>"
      ]
     },
     "metadata": {
      "needs_background": "light"
     },
     "output_type": "display_data"
    }
   ],
   "source": [
    "sns.barplot(x='city', y='no_screens', data=df, hue=df['type']);"
   ]
  },
  {
   "cell_type": "markdown",
   "metadata": {},
   "source": [
    "### Chennai has the most number of seats for multiplex screens"
   ]
  },
  {
   "cell_type": "code",
   "execution_count": 86,
   "metadata": {},
   "outputs": [
    {
     "data": {
      "image/png": "[encoded data removed]",
      "text/plain": [
       "<Figure size 432x288 with 1 Axes>"
      ]
     },
     "metadata": {
      "needs_background": "light"
     },
     "output_type": "display_data"
    }
   ],
   "source": [
    "sns.barplot(x='city', y='total_seats', data=df, hue=df['type']);"
   ]
  },
  {
   "cell_type": "markdown",
   "metadata": {},
   "source": [
    "### multiplex screens are same price in kochi. but typically more expensive"
   ]
  },
  {
   "cell_type": "code",
   "execution_count": 87,
   "metadata": {},
   "outputs": [
    {
     "data": {
      "image/png": "[encoded data removed]",
      "text/plain": [
       "<Figure size 432x288 with 1 Axes>"
      ]
     },
     "metadata": {
      "needs_background": "light"
     },
     "output_type": "display_data"
    }
   ],
   "source": [
    "sns.barplot(x='city',y='calculated_ticket_prices',data=df, hue=df['type']);"
   ]
  },
  {
   "cell_type": "code",
   "execution_count": 89,
   "metadata": {},
   "outputs": [
    {
     "data": {
      "image/png": "[encoded data removed]",
      "text/plain": [
       "<Figure size 432x288 with 1 Axes>"
      ]
     },
     "metadata": {
      "needs_background": "light"
     },
     "output_type": "display_data"
    }
   ],
   "source": [
    "sns.countplot(x='city', data=df, hue=df['type']);"
   ]
  },
  {
   "cell_type": "code",
   "execution_count": 91,
   "metadata": {},
   "outputs": [
    {
     "data": {
      "image/png": "[encoded data removed]",
      "text/plain": [
       "<Figure size 432x288 with 1 Axes>"
      ]
     },
     "metadata": {
      "needs_background": "light"
     },
     "output_type": "display_data"
    }
   ],
   "source": []
  }
 ],
 "metadata": {
  "kernelspec": {
   "display_name": "Python 3",
   "language": "python",
   "name": "python3"
  },
  "language_info": {
   "codemirror_mode": {
    "name": "ipython",
    "version": 3
   },
   "file_extension": ".py",
   "mimetype": "text/x-python",
   "name": "python",
   "nbconvert_exporter": "python",
   "pygments_lexer": "ipython3",
   "version": "3.8.5"
  }
 },
 "nbformat": 4,
 "nbformat_minor": 4
}
